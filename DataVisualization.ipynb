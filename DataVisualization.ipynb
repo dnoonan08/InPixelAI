{
 "cells": [
  {
   "cell_type": "code",
   "execution_count": null,
   "id": "4753bb93",
   "metadata": {},
   "outputs": [],
   "source": [
    "import matplotlib.pyplot as plt\n",
    "import numpy as np\n",
    "\n",
    "from matplotlib.colors import LogNorm\n",
    "\n",
    "import h5py\n"
   ]
  },
  {
   "cell_type": "markdown",
   "id": "12d7242a",
   "metadata": {},
   "source": [
    "Load sim data"
   ]
  },
  {
   "cell_type": "code",
   "execution_count": null,
   "id": "17efe907",
   "metadata": {},
   "outputs": [],
   "source": [
    "#change path to your location\n",
    "pathToSimData=\"/Users/dnoonan/Work/AIinPixel/simulated ptychography dataset\"\n",
    "\n",
    "with h5py.File(f\"{pathToSimData}/data_cell_phase_n2e7.h5\", \"r\") as f:\n",
    "    data = f['exchange/data'][...]\n",
    "with h5py.File(f\"{pathToSimData}/data_cell_phase_n2e7_ref.h5\", \"r\") as f:\n",
    "    data_ref = f['exchange/data'][...]"
   ]
  },
  {
   "cell_type": "markdown",
   "id": "86d49eb0",
   "metadata": {},
   "source": [
    "Keep only middle 32x32 array, also square the real part of the data to get back to photon counts"
   ]
  },
  {
   "cell_type": "code",
   "execution_count": null,
   "id": "0d8d16f9",
   "metadata": {},
   "outputs": [],
   "source": [
    "data = data[0,:,36-16:36+16,36-16:36+16].real**2\n",
    "data_ref = data_ref[0,:,36-16:36+16,36-16:36+16].real**2"
   ]
  },
  {
   "cell_type": "code",
   "execution_count": null,
   "id": "20d430db",
   "metadata": {},
   "outputs": [],
   "source": [
    "print(data.shape)\n",
    "print(data_ref.shape)"
   ]
  },
  {
   "cell_type": "code",
   "execution_count": null,
   "id": "c251938d",
   "metadata": {},
   "outputs": [],
   "source": [
    "#plot average value across all 4488 samples\n",
    "plt.imshow(np.mean(data,axis=0),norm=LogNorm())\n",
    "plt.colorbar()\n",
    "plt.show();\n",
    "\n",
    "plt.imshow(np.mean(data_ref,axis=0),norm=LogNorm())\n",
    "plt.colorbar()\n",
    "plt.show();"
   ]
  },
  {
   "cell_type": "code",
   "execution_count": null,
   "id": "440e1436",
   "metadata": {},
   "outputs": [],
   "source": [
    "#plot images for first 8 samples\n",
    "f,ax = plt.subplots(2,4,figsize=(15,8))\n",
    "ax = ax.flatten()\n",
    "for i in range(8):\n",
    "    ax[i].imshow(data[i],norm=LogNorm())"
   ]
  },
  {
   "cell_type": "code",
   "execution_count": null,
   "id": "92b54912",
   "metadata": {},
   "outputs": [],
   "source": [
    "#plot the 8 images with the most photons\n",
    "N_highest_Idx = np.argsort(data.sum(axis=(1,2)))[-8:]\n",
    "x = data[N_highest_Idx]\n",
    "f,ax = plt.subplots(2,4,figsize=(15,8))\n",
    "ax = ax.flatten()\n",
    "for i in range(8):\n",
    "    ax[i].imshow(x[i],norm=LogNorm())\n",
    "    ax[i].set_title(N_highest_Idx[i])    "
   ]
  },
  {
   "cell_type": "code",
   "execution_count": null,
   "id": "2dec26d3",
   "metadata": {},
   "outputs": [],
   "source": [
    "#plot the 8 images with the most occupied pixels\n",
    "N_highest_Idx = np.argsort((data>0).sum(axis=(1,2)))[-8:]\n",
    "x = data[N_highest_Idx]\n",
    "f,ax = plt.subplots(2,4,figsize=(15,8))\n",
    "ax = ax.flatten()\n",
    "for i in range(8):\n",
    "    ax[i].imshow(x[i],norm=LogNorm())     \n",
    "    ax[i].set_title(N_highest_Idx[i])"
   ]
  }
 ],
 "metadata": {
  "kernelspec": {
   "display_name": "Python 3 (ipykernel)",
   "language": "python",
   "name": "python3"
  },
  "language_info": {
   "codemirror_mode": {
    "name": "ipython",
    "version": 3
   },
   "file_extension": ".py",
   "mimetype": "text/x-python",
   "name": "python",
   "nbconvert_exporter": "python",
   "pygments_lexer": "ipython3",
   "version": "3.8.10"
  }
 },
 "nbformat": 4,
 "nbformat_minor": 5
}
